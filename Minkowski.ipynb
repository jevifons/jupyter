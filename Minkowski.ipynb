{
 "cells": [
  {
   "cell_type": "markdown",
   "id": "c9e398ef-55c5-405a-bd88-04f0b5fb4142",
   "metadata": {
    "editable": true,
    "slideshow": {
     "slide_type": ""
    },
    "tags": []
   },
   "source": [
    "# Cálculo del intervalo de Minkowski en Python - Jupyter\n",
    "Nota. Ver las siguientes referencias:\n",
    "-  Jupyter Notebook en 20 minutos (Python) (https://www.youtube.com/watch?v=6Vr9ZUntCyE&t=1s)\n",
    "- Maudlin, Tim,Filosofía de la Física, FCE. pág. 90-93.\n"
   ]
  },
  {
   "cell_type": "markdown",
   "id": "496ad72c-2102-4259-a5f8-869fe9e75d66",
   "metadata": {},
   "source": [
    "## Importamos librería para poder utilizar funciones matemáticas"
   ]
  },
  {
   "cell_type": "code",
   "execution_count": 9,
   "id": "cf0c0fc6-5eb6-483a-aa63-b1631e9b96cb",
   "metadata": {},
   "outputs": [],
   "source": [
    "# Importar la librería de matemáticas\n",
    "import math as m"
   ]
  },
  {
   "cell_type": "markdown",
   "id": "c986ca55-9b46-4196-b095-a1ec1a194e28",
   "metadata": {},
   "source": [
    "## Definimos las coordenadas de Minkowski para la paradoja de los gemelos\n",
    "Ao, Ap, Aq son las coordenadas (t,x,y,z) en los puntos o, p, q para el gemelo A<br >\n",
    "Bo, Bq son las coordenadas (t,x,y,z) en el punto o y q para el gemelo B"
   ]
  },
  {
   "cell_type": "code",
   "execution_count": 16,
   "id": "a75bc8f8-1dd3-4114-ad67-8d81cf7108c0",
   "metadata": {},
   "outputs": [],
   "source": [
    "# Definición de coordenadas de Minkowski\n",
    "Ao = (0,0,0,0)\n",
    "Ap = (5, 4, 0, 0)\n",
    "Aq = (10, 0, 0,0)\n",
    "Bo = (10,0,0,0)\n",
    "Bq = (0,0,0,0)"
   ]
  },
  {
   "cell_type": "markdown",
   "id": "5fd53931-f126-41b2-b80b-3ecc737e6fd5",
   "metadata": {},
   "source": [
    "### Impresión de las coordenadas de Minkowsky\n",
    "Nota:\n",
    "- \"\\t\" significa dejar un tabulador de espacio\n",
    "- \"\\n\" significa dejar una línea de espacio\n"
   ]
  },
  {
   "cell_type": "code",
   "execution_count": 22,
   "id": "82d0f6cf-21e2-45f7-95c2-8bcf1620a1ba",
   "metadata": {},
   "outputs": [
    {
     "name": "stdout",
     "output_type": "stream",
     "text": [
      "Las coordenadas del gemelo A son:\n",
      "\t (10, 0, 0, 0) \n",
      "\t (0, 0, 0, 0)\n",
      "\n",
      "Las coordenadas del gemelo B son:\n",
      "\t (0, 0, 0, 0) \n",
      "\t (5, 4, 0, 0) \n",
      "\t (10, 0, 0, 0)\n"
     ]
    }
   ],
   "source": [
    "# Impresión de las coordenadas\n",
    "print(\"Las coordenadas del gemelo A son:\")\n",
    "print(\"\\t\",Bo,\"\\n\\t\",Bq)\n",
    "print(\"\\nLas coordenadas del gemelo B son:\")\n",
    "print(\"\\t\",Ao,\"\\n\\t\",Ap,\"\\n\\t\",Aq)"
   ]
  },
  {
   "cell_type": "markdown",
   "id": "76c6052a-cd5d-4673-b3e8-83a30dade2b9",
   "metadata": {},
   "source": [
    "### Implementamos la función para calcular el intervalo de Minkowsky\n",
    "- El símbolo de la exponenciación en Python es **\n",
    "- Se utiliza un ciclo for para implementar la resta de cada p-q para las dimensiones x,y,z\n",
    "- range(3) significa que en cada ciclo la variable i toma los valores de 0,1,2\n",
    "- suma -= significa restar la expresión actual al contenido anterior de la variable suma\n",
    "- return regresa el valor de la función I que es la raíz cuadrada de las restas de Minkowsky\n"
   ]
  },
  {
   "cell_type": "code",
   "execution_count": 11,
   "id": "f680f267-9c2a-4fae-87c4-685df5e650d2",
   "metadata": {},
   "outputs": [],
   "source": [
    "def I(p,q):\n",
    "    suma = (p[0]-q[0])**2\n",
    "    for i in range (3):\n",
    "        suma -= (p[i+1]-q[i+1])**2\n",
    "    return m.sqrt(suma)"
   ]
  },
  {
   "cell_type": "markdown",
   "id": "e8f8e58d-bdc1-4abf-839d-1bb4742a5283",
   "metadata": {},
   "source": [
    "Se calculan los intervalos de Mikowsky oq, op y pq invocando a la función I(p,q)"
   ]
  },
  {
   "cell_type": "code",
   "execution_count": 12,
   "id": "99a0ed7f-3d94-48d4-8c99-8ea45df158f8",
   "metadata": {},
   "outputs": [],
   "source": [
    "oq = I(Bo,Bq)\n",
    "op = I(Ao,Ap)\n",
    "pq = I(Ap,Aq)"
   ]
  },
  {
   "cell_type": "markdown",
   "id": "b0c57421-6084-46ca-8e5a-cb5723f8a931",
   "metadata": {},
   "source": [
    "Ta y Tb son el tiempo para los gemelos A y B respectivamente"
   ]
  },
  {
   "cell_type": "code",
   "execution_count": 18,
   "id": "bda8b894-a582-45db-a98a-56deb2a35023",
   "metadata": {},
   "outputs": [],
   "source": [
    "Ta = op+pq\n",
    "Tb = oq"
   ]
  },
  {
   "cell_type": "markdown",
   "id": "2b30a558-c863-4ee5-85f1-55905b51442f",
   "metadata": {},
   "source": [
    "### Impresión de las trayectorias y tiempo de los gemelos"
   ]
  },
  {
   "cell_type": "code",
   "execution_count": 17,
   "id": "d1be0955-b1c1-47b3-bc0f-6e4f41f87c1e",
   "metadata": {},
   "outputs": [
    {
     "name": "stdout",
     "output_type": "stream",
     "text": [
      "\n",
      "Trayectorias oq,op,pq\n",
      "10.0 3.0 3.0\n",
      "\n",
      "Gemelo A (op+oq): 6.0 \n",
      "Gemelo B (oq): 10.0\n"
     ]
    }
   ],
   "source": [
    "print(\"\\nTrayectorias oq,op,pq\")\n",
    "print(oq,op,pq)\n",
    "print(\"\\nGemelo A (op+oq):\",Ta,\"\\nGemelo B (oq):\",Tb)"
   ]
  },
  {
   "cell_type": "markdown",
   "id": "8ee17bd3-b3ae-42af-9185-49c47288669a",
   "metadata": {},
   "source": [
    "### Impresión del análisis cuando el tiempo del gemelo B es 100 días"
   ]
  },
  {
   "cell_type": "code",
   "execution_count": 20,
   "id": "ebb8afe3-af0b-429b-97f7-136b80682575",
   "metadata": {},
   "outputs": [
    {
     "name": "stdout",
     "output_type": "stream",
     "text": [
      "\n",
      "Si el tiempo en B es 100 días, el tiempo en A es 60.0\n",
      "A su regreso el gemelo A será 40.0 días más joven que B\n"
     ]
    }
   ],
   "source": [
    "print(\"\\nSi el tiempo en B es 100 días, el tiempo en A es\",10*Ta)\n",
    "print(\"A su regreso el gemelo A será\",10*(Tb-Ta), \"días más joven que B\")"
   ]
  }
 ],
 "metadata": {
  "kernelspec": {
   "display_name": "Python 3 (ipykernel)",
   "language": "python",
   "name": "python3"
  },
  "language_info": {
   "codemirror_mode": {
    "name": "ipython",
    "version": 3
   },
   "file_extension": ".py",
   "mimetype": "text/x-python",
   "name": "python",
   "nbconvert_exporter": "python",
   "pygments_lexer": "ipython3",
   "version": "3.9.2"
  }
 },
 "nbformat": 4,
 "nbformat_minor": 5
}
